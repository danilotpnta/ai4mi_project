{
 "cells": [
  {
   "cell_type": "code",
   "execution_count": 1,
   "metadata": {},
   "outputs": [
    {
     "name": "stderr",
     "output_type": "stream",
     "text": [
      "IProgress not found. Please update jupyter and ipywidgets. See https://ipywidgets.readthedocs.io/en/stable/user_install.html\n",
      "2024-10-05 18:21:35.179792: I tensorflow/core/platform/cpu_feature_guard.cc:210] This TensorFlow binary is optimized to use available CPU instructions in performance-critical operations.\n",
      "To enable the following instructions: AVX2 FMA, in other operations, rebuild TensorFlow with the appropriate compiler flags.\n"
     ]
    }
   ],
   "source": [
    "%reload_ext autoreload\n",
    "%autoreload 2\n",
    "\n",
    "import sys\n",
    "sys.path.append(\"../\")\n",
    "\n",
    "from models.segvol.base import SegVol, SegVolModel, SegVolConfig\n",
    "device = \"cpu\"\n",
    "\n",
    "img_path = \"../data/segthor_train/train/Patient_05/Patient_05.nii.gz\"\n",
    "gt_path = \"../data/segthor_train/train/Patient_05/GT.nii.gz\""
   ]
  },
  {
   "cell_type": "code",
   "execution_count": 2,
   "metadata": {},
   "outputs": [
    {
     "name": "stderr",
     "output_type": "stream",
     "text": [
      "monai.transforms.croppad.dictionary CropForegroundd.__init__:allow_smaller: Current default value of argument `allow_smaller=True` has been deprecated since version 1.2. It will be changed to `allow_smaller=False` in version 1.5.\n"
     ]
    }
   ],
   "source": [
    "config = SegVolConfig()\n",
    "\n",
    "from models.segvol.base import SegVolProcessor\n",
    "\n",
    "# NOTE: The spatial size is 32x256x256 which is not that much to capture the whole volume\n",
    "processor = SegVolProcessor(config.spatial_size)\n"
   ]
  },
  {
   "cell_type": "code",
   "execution_count": 3,
   "metadata": {},
   "outputs": [
    {
     "data": {
      "text/plain": [
       "tensor([[[[-2.0880, -2.0880, -2.0880,  ..., -2.0880, -2.0880, -2.0880],\n",
       "          [-2.0880, -2.0880, -2.0880,  ..., -2.0880, -2.0880, -2.0880],\n",
       "          [-2.0880, -2.0880, -2.0880,  ..., -2.0880, -2.0880, -2.0880],\n",
       "          ...,\n",
       "          [-2.0880, -2.0880, -2.0880,  ..., -2.0880, -2.0880, -2.0880],\n",
       "          [-2.0880, -2.0880, -2.0880,  ..., -2.0880, -2.0880, -2.0880],\n",
       "          [-2.0880, -2.0880, -2.0880,  ..., -2.0880, -2.0880, -2.0880]],\n",
       "\n",
       "         [[-2.0880, -2.0880, -2.0880,  ..., -2.0880, -2.0880, -2.0880],\n",
       "          [-2.0880, -2.0880, -2.0880,  ..., -2.0880, -2.0880, -2.0880],\n",
       "          [-2.0880, -2.0880, -2.0880,  ..., -2.0880, -2.0880, -2.0880],\n",
       "          ...,\n",
       "          [-2.0880, -2.0880, -2.0880,  ..., -2.0880, -2.0880, -2.0880],\n",
       "          [-2.0880, -2.0880, -2.0880,  ..., -2.0880, -2.0880, -2.0880],\n",
       "          [-2.0880, -2.0880, -2.0880,  ..., -2.0880, -2.0880, -2.0880]],\n",
       "\n",
       "         [[-2.0880, -2.0880, -2.0880,  ..., -2.0880, -2.0880, -2.0880],\n",
       "          [-2.0880, -2.0880, -2.0880,  ..., -2.0880, -2.0880, -2.0880],\n",
       "          [-2.0880, -2.0880, -2.0880,  ..., -2.0880, -2.0880, -2.0880],\n",
       "          ...,\n",
       "          [-2.0880, -2.0880, -2.0880,  ..., -2.0880, -2.0880, -2.0880],\n",
       "          [-2.0880, -2.0880, -2.0880,  ..., -2.0880, -2.0880, -2.0880],\n",
       "          [-2.0880, -2.0880, -2.0880,  ..., -2.0880, -2.0880, -2.0880]],\n",
       "\n",
       "         ...,\n",
       "\n",
       "         [[-2.0880, -2.0880, -2.0880,  ..., -2.0880, -2.0880, -2.0880],\n",
       "          [-2.0880, -2.0880, -2.0880,  ..., -2.0880, -2.0880, -2.0880],\n",
       "          [-2.0880, -2.0880, -2.0880,  ..., -2.0880, -2.0880, -2.0880],\n",
       "          ...,\n",
       "          [-2.0880, -2.0880, -2.0880,  ..., -2.0880, -2.0880, -2.0880],\n",
       "          [-2.0880, -2.0880, -2.0880,  ..., -2.0880, -2.0880, -2.0880],\n",
       "          [-2.0880, -2.0880, -2.0880,  ..., -2.0880, -2.0880, -2.0880]],\n",
       "\n",
       "         [[-2.0880, -2.0880, -2.0880,  ..., -2.0880, -2.0880, -2.0880],\n",
       "          [-2.0880, -2.0880, -2.0880,  ..., -2.0880, -2.0880, -2.0880],\n",
       "          [-2.0880, -2.0880, -2.0880,  ..., -2.0880, -2.0880, -2.0880],\n",
       "          ...,\n",
       "          [-2.0880, -2.0880, -2.0880,  ..., -2.0880, -2.0880, -2.0880],\n",
       "          [-2.0880, -2.0880, -2.0880,  ..., -2.0880, -2.0880, -2.0880],\n",
       "          [-2.0880, -2.0880, -2.0880,  ..., -2.0880, -2.0880, -2.0880]],\n",
       "\n",
       "         [[-2.0880, -2.0880, -2.0880,  ..., -2.0880, -2.0880, -2.0880],\n",
       "          [-2.0880, -2.0880, -2.0880,  ..., -2.0880, -2.0880, -2.0880],\n",
       "          [-2.0880, -2.0880, -2.0880,  ..., -2.0880, -2.0880, -2.0880],\n",
       "          ...,\n",
       "          [-2.0880, -2.0880, -2.0880,  ..., -2.0880, -2.0880, -2.0880],\n",
       "          [-2.0880, -2.0880, -2.0880,  ..., -2.0880, -2.0880, -2.0880],\n",
       "          [-2.0880, -2.0880, -2.0880,  ..., -2.0880, -2.0880, -2.0880]]]])"
      ]
     },
     "execution_count": 3,
     "metadata": {},
     "output_type": "execute_result"
    }
   ],
   "source": [
    "ct, gt = processor.preprocess_ct_gt(img_path, gt_path, K=5)\n",
    "\n",
    "# Add batch dimensions (don't ask me why I'm doing this, the transform function complains otherwise)\n",
    "ct.unsqueeze_(0) # (1, 5, 32, 256, 256)\n"
   ]
  },
  {
   "cell_type": "code",
   "execution_count": 5,
   "metadata": {},
   "outputs": [],
   "source": [
    "data_item = processor.train_transform(ct, gt)\n",
    "image, gt3D = data_item[\"image\"].to(device), data_item[\"label\"].unsqueeze(0).to(device) # add batch dim"
   ]
  },
  {
   "cell_type": "code",
   "execution_count": 6,
   "metadata": {},
   "outputs": [
    {
     "name": "stderr",
     "output_type": "stream",
     "text": [
      "monai.networks.nets.vit ViT.__init__:pos_embed: Argument `pos_embed` has been deprecated since version 1.2. It will be removed in version 1.4. please use `proj_type` instead.\n"
     ]
    },
    {
     "data": {
      "text/plain": [
       "<All keys matched successfully>"
      ]
     },
     "execution_count": 6,
     "metadata": {},
     "output_type": "execute_result"
    }
   ],
   "source": [
    "from models.segvol.base import TextEncoder\n",
    "from transformers import AutoModel\n",
    "model = AutoModel.from_pretrained(\n",
    "            \"BAAI/SegVol\", trust_remote_code=True, test_mode=config.test_mode\n",
    "        ).model\n",
    "\n",
    "new_model = SegVol(\n",
    "    model.image_encoder,\n",
    "    model.mask_decoder,\n",
    "    model.prompt_encoder,\n",
    "    roi_size=[1],\n",
    "    patch_size=[2],\n",
    "    test_mode=False\n",
    ")\n",
    "new_model.feat_shape = model.feat_shape\n",
    "new_model.text_encoder = TextEncoder()\n",
    "new_model.load_state_dict(model.state_dict())"
   ]
  },
  {
   "cell_type": "code",
   "execution_count": 7,
   "metadata": {},
   "outputs": [],
   "source": [
    "# NOTE!! I'm drunk, so check this later\n",
    "# The image looks currently looks like: (1, 32, 256, 256)\n",
    "# However, the patch embedding expects (B, C, H, W, D)\n",
    "image_bchwd = image.unsqueeze(0)"
   ]
  },
  {
   "cell_type": "code",
   "execution_count": 8,
   "metadata": {},
   "outputs": [
    {
     "data": {
      "text/plain": [
       "SegVol(\n",
       "  (image_encoder): ViT(\n",
       "    (patch_embedding): PatchEmbeddingBlock(\n",
       "      (patch_embeddings): Sequential(\n",
       "        (0): Rearrange('b c (h p1) (w p2) (d p3) -> b (h w d) (p1 p2 p3 c)', p1=4, p2=16, p3=16)\n",
       "        (1): Linear(in_features=1024, out_features=768, bias=True)\n",
       "      )\n",
       "      (dropout): Dropout(p=0.0, inplace=False)\n",
       "    )\n",
       "    (blocks): ModuleList(\n",
       "      (0-11): 12 x TransformerBlock(\n",
       "        (mlp): MLPBlock(\n",
       "          (linear1): Linear(in_features=768, out_features=3072, bias=True)\n",
       "          (linear2): Linear(in_features=3072, out_features=768, bias=True)\n",
       "          (fn): GELU(approximate='none')\n",
       "          (drop1): Dropout(p=0.0, inplace=False)\n",
       "          (drop2): Dropout(p=0.0, inplace=False)\n",
       "        )\n",
       "        (norm1): LayerNorm((768,), eps=1e-05, elementwise_affine=True)\n",
       "        (attn): SABlock(\n",
       "          (out_proj): Linear(in_features=768, out_features=768, bias=True)\n",
       "          (qkv): Linear(in_features=768, out_features=2304, bias=False)\n",
       "          (input_rearrange): Rearrange('b h (qkv l d) -> qkv b l h d', qkv=3, l=12)\n",
       "          (out_rearrange): Rearrange('b h l d -> b l (h d)')\n",
       "          (drop_output): Dropout(p=0.0, inplace=False)\n",
       "          (drop_weights): Dropout(p=0.0, inplace=False)\n",
       "        )\n",
       "        (norm2): LayerNorm((768,), eps=1e-05, elementwise_affine=True)\n",
       "      )\n",
       "    )\n",
       "    (norm): LayerNorm((768,), eps=1e-05, elementwise_affine=True)\n",
       "  )\n",
       "  (mask_decoder): MaskDecoder(\n",
       "    (transformer): TwoWayTransformer(\n",
       "      (layers): ModuleList(\n",
       "        (0-1): 2 x TwoWayAttentionBlock(\n",
       "          (self_attn): Attention(\n",
       "            (q_proj): Linear(in_features=768, out_features=768, bias=True)\n",
       "            (k_proj): Linear(in_features=768, out_features=768, bias=True)\n",
       "            (v_proj): Linear(in_features=768, out_features=768, bias=True)\n",
       "            (out_proj): Linear(in_features=768, out_features=768, bias=True)\n",
       "          )\n",
       "          (norm1): LayerNorm((768,), eps=1e-05, elementwise_affine=True)\n",
       "          (cross_attn_token_to_image): Attention(\n",
       "            (q_proj): Linear(in_features=768, out_features=384, bias=True)\n",
       "            (k_proj): Linear(in_features=768, out_features=384, bias=True)\n",
       "            (v_proj): Linear(in_features=768, out_features=384, bias=True)\n",
       "            (out_proj): Linear(in_features=384, out_features=768, bias=True)\n",
       "          )\n",
       "          (norm2): LayerNorm((768,), eps=1e-05, elementwise_affine=True)\n",
       "          (mlp): MLPBlock(\n",
       "            (lin1): Linear(in_features=768, out_features=2048, bias=True)\n",
       "            (lin2): Linear(in_features=2048, out_features=768, bias=True)\n",
       "            (act): ReLU()\n",
       "          )\n",
       "          (norm3): LayerNorm((768,), eps=1e-05, elementwise_affine=True)\n",
       "          (norm4): LayerNorm((768,), eps=1e-05, elementwise_affine=True)\n",
       "          (cross_attn_image_to_token): Attention(\n",
       "            (q_proj): Linear(in_features=768, out_features=384, bias=True)\n",
       "            (k_proj): Linear(in_features=768, out_features=384, bias=True)\n",
       "            (v_proj): Linear(in_features=768, out_features=384, bias=True)\n",
       "            (out_proj): Linear(in_features=384, out_features=768, bias=True)\n",
       "          )\n",
       "        )\n",
       "      )\n",
       "      (final_attn_token_to_image): Attention(\n",
       "        (q_proj): Linear(in_features=768, out_features=384, bias=True)\n",
       "        (k_proj): Linear(in_features=768, out_features=384, bias=True)\n",
       "        (v_proj): Linear(in_features=768, out_features=384, bias=True)\n",
       "        (out_proj): Linear(in_features=384, out_features=768, bias=True)\n",
       "      )\n",
       "      (norm_final_attn): LayerNorm((768,), eps=1e-05, elementwise_affine=True)\n",
       "    )\n",
       "    (iou_token): Embedding(1, 768)\n",
       "    (mask_tokens): Embedding(4, 768)\n",
       "    (output_upscaling): Sequential(\n",
       "      (0): ConvTranspose3d(768, 192, kernel_size=(2, 2, 2), stride=(2, 2, 2))\n",
       "      (1): LayerNorm((192, 16, 32, 32), eps=1e-05, elementwise_affine=True)\n",
       "      (2): GELU(approximate='none')\n",
       "      (3): ConvTranspose3d(192, 96, kernel_size=(2, 2, 2), stride=(2, 2, 2))\n",
       "      (4): GELU(approximate='none')\n",
       "    )\n",
       "    (output_hypernetworks_mlps): ModuleList(\n",
       "      (0-3): 4 x MLP(\n",
       "        (layers): ModuleList(\n",
       "          (0-1): 2 x Linear(in_features=768, out_features=768, bias=True)\n",
       "          (2): Linear(in_features=768, out_features=96, bias=True)\n",
       "        )\n",
       "      )\n",
       "    )\n",
       "    (iou_prediction_head): MLP(\n",
       "      (layers): ModuleList(\n",
       "        (0): Linear(in_features=768, out_features=256, bias=True)\n",
       "        (1): Linear(in_features=256, out_features=256, bias=True)\n",
       "        (2): Linear(in_features=256, out_features=4, bias=True)\n",
       "      )\n",
       "    )\n",
       "    (txt_align_upscaled_embedding): Linear(in_features=768, out_features=96, bias=True)\n",
       "  )\n",
       "  (prompt_encoder): PromptEncoder(\n",
       "    (pe_layer): PositionEmbeddingRandom()\n",
       "    (point_embeddings): ModuleList(\n",
       "      (0-3): 4 x Embedding(1, 768)\n",
       "    )\n",
       "    (not_a_point_embed): Embedding(1, 768)\n",
       "    (mask_downscaling): Sequential(\n",
       "      (0): Conv2d(1, 4, kernel_size=(2, 2), stride=(2, 2))\n",
       "      (1): LayerNorm2d()\n",
       "      (2): GELU(approximate='none')\n",
       "      (3): Conv2d(4, 16, kernel_size=(2, 2), stride=(2, 2))\n",
       "      (4): LayerNorm2d()\n",
       "      (5): GELU(approximate='none')\n",
       "      (6): Conv2d(16, 768, kernel_size=(1, 1), stride=(1, 1))\n",
       "    )\n",
       "    (no_mask_embed): Embedding(1, 768)\n",
       "  )\n",
       "  (text_encoder): TextEncoder(\n",
       "    (clip_text_model): CLIPTextModel(\n",
       "      (text_model): CLIPTextTransformer(\n",
       "        (embeddings): CLIPTextEmbeddings(\n",
       "          (token_embedding): Embedding(49408, 512)\n",
       "          (position_embedding): Embedding(77, 512)\n",
       "        )\n",
       "        (encoder): CLIPEncoder(\n",
       "          (layers): ModuleList(\n",
       "            (0-11): 12 x CLIPEncoderLayer(\n",
       "              (self_attn): CLIPSdpaAttention(\n",
       "                (k_proj): Linear(in_features=512, out_features=512, bias=True)\n",
       "                (v_proj): Linear(in_features=512, out_features=512, bias=True)\n",
       "                (q_proj): Linear(in_features=512, out_features=512, bias=True)\n",
       "                (out_proj): Linear(in_features=512, out_features=512, bias=True)\n",
       "              )\n",
       "              (layer_norm1): LayerNorm((512,), eps=1e-05, elementwise_affine=True)\n",
       "              (mlp): CLIPMLP(\n",
       "                (activation_fn): QuickGELUActivation()\n",
       "                (fc1): Linear(in_features=512, out_features=2048, bias=True)\n",
       "                (fc2): Linear(in_features=2048, out_features=512, bias=True)\n",
       "              )\n",
       "              (layer_norm2): LayerNorm((512,), eps=1e-05, elementwise_affine=True)\n",
       "            )\n",
       "          )\n",
       "        )\n",
       "        (final_layer_norm): LayerNorm((512,), eps=1e-05, elementwise_affine=True)\n",
       "      )\n",
       "    )\n",
       "    (dim_align): Linear(in_features=512, out_features=768, bias=True)\n",
       "  )\n",
       "  (dice_loss): BinaryDiceLoss()\n",
       "  (bce_loss): BCELoss(\n",
       "    (criterion): BCEWithLogitsLoss()\n",
       "  )\n",
       ")"
      ]
     },
     "execution_count": 8,
     "metadata": {},
     "output_type": "execute_result"
    }
   ],
   "source": [
    "new_model"
   ]
  },
  {
   "cell_type": "code",
   "execution_count": null,
   "metadata": {},
   "outputs": [
    {
     "name": "stdout",
     "output_type": "stream",
     "text": [
      "Helo from SegVol\n"
     ]
    }
   ],
   "source": [
    "organs_cls = [\"esophagus\", \"heart\", \"trachea\", \"aorta\"]\n",
    "loss = new_model(image_bchwd, train_organs=organs_cls, train_labels=gt3D, modality=\"CT\") \n"
   ]
  }
 ],
 "metadata": {
  "kernelspec": {
   "display_name": ".venv",
   "language": "python",
   "name": "python3"
  },
  "language_info": {
   "codemirror_mode": {
    "name": "ipython",
    "version": 3
   },
   "file_extension": ".py",
   "mimetype": "text/x-python",
   "name": "python",
   "nbconvert_exporter": "python",
   "pygments_lexer": "ipython3",
   "version": "3.11.4"
  }
 },
 "nbformat": 4,
 "nbformat_minor": 2
}
